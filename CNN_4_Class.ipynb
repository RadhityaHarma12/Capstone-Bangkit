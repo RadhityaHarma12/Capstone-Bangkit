{
  "cells": [
    {
      "cell_type": "code",
      "execution_count": 1,
      "metadata": {
        "colab": {
          "base_uri": "https://localhost:8080/"
        },
        "id": "8BeXQZEat27i",
        "outputId": "479ea84b-d0a1-46ec-daa4-a444701699b1"
      },
      "outputs": [
        {
          "output_type": "stream",
          "name": "stdout",
          "text": [
            "Mounted at /content/drive\n"
          ]
        }
      ],
      "source": [
        "from google.colab import drive\n",
        "drive.mount('/content/drive')"
      ]
    },
    {
      "cell_type": "code",
      "source": [
        "import zipfile\n",
        "# Open the zip file\n",
        "with zipfile.ZipFile('/content/drive/MyDrive/FER13_4_cleaner.zip', 'r') as zip_ref:\n",
        "    # Extract all the files to the current directory\n",
        "    zip_ref.extractall()"
      ],
      "metadata": {
        "id": "qyTDm55vxT4j"
      },
      "execution_count": 2,
      "outputs": []
    },
    {
      "cell_type": "code",
      "execution_count": 3,
      "metadata": {
        "id": "OsFR4ZaIcK3F"
      },
      "outputs": [],
      "source": [
        "import pandas as pd\n",
        "import numpy as np\n",
        "import matplotlib.pyplot as plt\n",
        "plt.style.use('default')\n",
        "\n",
        "import os\n",
        "import tensorflow as tf\n",
        "import keras\n",
        "import cv2\n",
        "\n",
        "from sklearn.model_selection import train_test_split\n",
        "\n",
        "from tensorflow.keras.preprocessing.image import ImageDataGenerator, load_img, img_to_array\n",
        "from tensorflow.keras.callbacks import EarlyStopping, ModelCheckpoint, ReduceLROnPlateau\n",
        "from tensorflow.keras.utils import plot_model\n",
        "from tensorflow.keras import layers , models, optimizers\n",
        "\n",
        "from tensorflow.keras.models import Sequential, Model\n",
        "from tensorflow.keras.layers import *\n",
        "from tensorflow.keras.applications import ResNet50V2"
      ]
    },
    {
      "cell_type": "markdown",
      "metadata": {
        "id": "ZJEY6DRjcK3J"
      },
      "source": [
        "# **Visualizing Classes**"
      ]
    },
    {
      "cell_type": "code",
      "execution_count": 4,
      "metadata": {
        "id": "7VepYznXcK3K",
        "colab": {
          "base_uri": "https://localhost:8080/"
        },
        "outputId": "39273e81-a489-4fa1-bf23-2074362d857d"
      },
      "outputs": [
        {
          "output_type": "stream",
          "name": "stdout",
          "text": [
            "Train Counts:\n",
            "         Train\n",
            "happy     6834\n",
            "sad       4685\n",
            "neutral   4295\n",
            "angry     2832\n",
            "\n",
            "Test Counts:\n",
            "         Test\n",
            "happy    1770\n",
            "sad      1245\n",
            "neutral  1233\n",
            "angry     955\n"
          ]
        }
      ],
      "source": [
        "import os\n",
        "import pandas as pd\n",
        "\n",
        "def Classes_Count(path, name):\n",
        "    Classes_Dict = {}\n",
        "\n",
        "    for Class in os.listdir(path):\n",
        "        Full_Path = os.path.join(path, Class)\n",
        "        if os.path.isdir(Full_Path):  # Check if it's a directory\n",
        "            Classes_Dict[Class] = len(os.listdir(Full_Path))\n",
        "\n",
        "    df = pd.DataFrame(Classes_Dict, index=[name])\n",
        "\n",
        "    return df\n",
        "\n",
        "# Set the directories\n",
        "train_dir = '/content/FER13_cleaner/train'\n",
        "test_dir = '/content/FER13_cleaner/test'\n",
        "\n",
        "# Count classes\n",
        "Train_Count = Classes_Count(train_dir, 'Train').transpose().sort_values(by=\"Train\", ascending=False)\n",
        "Test_Count = Classes_Count(test_dir, 'Test').transpose().sort_values(by=\"Test\", ascending=False)\n",
        "\n",
        "# Display the counts\n",
        "print(\"Train Counts:\")\n",
        "print(Train_Count)\n",
        "print(\"\\nTest Counts:\")\n",
        "print(Test_Count)\n"
      ]
    },
    {
      "cell_type": "code",
      "execution_count": 5,
      "metadata": {
        "colab": {
          "base_uri": "https://localhost:8080/",
          "height": 175
        },
        "id": "QWDotxg4cK3L",
        "outputId": "841a86f5-1385-44f2-c574-d52f00030001"
      },
      "outputs": [
        {
          "output_type": "execute_result",
          "data": {
            "text/plain": [
              "         Train  Test\n",
              "happy     6834  1770\n",
              "sad       4685  1245\n",
              "neutral   4295  1233\n",
              "angry     2832   955"
            ],
            "text/html": [
              "\n",
              "  <div id=\"df-79dcd2ba-b5de-4003-a7f1-1c935c807327\" class=\"colab-df-container\">\n",
              "    <div>\n",
              "<style scoped>\n",
              "    .dataframe tbody tr th:only-of-type {\n",
              "        vertical-align: middle;\n",
              "    }\n",
              "\n",
              "    .dataframe tbody tr th {\n",
              "        vertical-align: top;\n",
              "    }\n",
              "\n",
              "    .dataframe thead th {\n",
              "        text-align: right;\n",
              "    }\n",
              "</style>\n",
              "<table border=\"1\" class=\"dataframe\">\n",
              "  <thead>\n",
              "    <tr style=\"text-align: right;\">\n",
              "      <th></th>\n",
              "      <th>Train</th>\n",
              "      <th>Test</th>\n",
              "    </tr>\n",
              "  </thead>\n",
              "  <tbody>\n",
              "    <tr>\n",
              "      <th>happy</th>\n",
              "      <td>6834</td>\n",
              "      <td>1770</td>\n",
              "    </tr>\n",
              "    <tr>\n",
              "      <th>sad</th>\n",
              "      <td>4685</td>\n",
              "      <td>1245</td>\n",
              "    </tr>\n",
              "    <tr>\n",
              "      <th>neutral</th>\n",
              "      <td>4295</td>\n",
              "      <td>1233</td>\n",
              "    </tr>\n",
              "    <tr>\n",
              "      <th>angry</th>\n",
              "      <td>2832</td>\n",
              "      <td>955</td>\n",
              "    </tr>\n",
              "  </tbody>\n",
              "</table>\n",
              "</div>\n",
              "    <div class=\"colab-df-buttons\">\n",
              "\n",
              "  <div class=\"colab-df-container\">\n",
              "    <button class=\"colab-df-convert\" onclick=\"convertToInteractive('df-79dcd2ba-b5de-4003-a7f1-1c935c807327')\"\n",
              "            title=\"Convert this dataframe to an interactive table.\"\n",
              "            style=\"display:none;\">\n",
              "\n",
              "  <svg xmlns=\"http://www.w3.org/2000/svg\" height=\"24px\" viewBox=\"0 -960 960 960\">\n",
              "    <path d=\"M120-120v-720h720v720H120Zm60-500h600v-160H180v160Zm220 220h160v-160H400v160Zm0 220h160v-160H400v160ZM180-400h160v-160H180v160Zm440 0h160v-160H620v160ZM180-180h160v-160H180v160Zm440 0h160v-160H620v160Z\"/>\n",
              "  </svg>\n",
              "    </button>\n",
              "\n",
              "  <style>\n",
              "    .colab-df-container {\n",
              "      display:flex;\n",
              "      gap: 12px;\n",
              "    }\n",
              "\n",
              "    .colab-df-convert {\n",
              "      background-color: #E8F0FE;\n",
              "      border: none;\n",
              "      border-radius: 50%;\n",
              "      cursor: pointer;\n",
              "      display: none;\n",
              "      fill: #1967D2;\n",
              "      height: 32px;\n",
              "      padding: 0 0 0 0;\n",
              "      width: 32px;\n",
              "    }\n",
              "\n",
              "    .colab-df-convert:hover {\n",
              "      background-color: #E2EBFA;\n",
              "      box-shadow: 0px 1px 2px rgba(60, 64, 67, 0.3), 0px 1px 3px 1px rgba(60, 64, 67, 0.15);\n",
              "      fill: #174EA6;\n",
              "    }\n",
              "\n",
              "    .colab-df-buttons div {\n",
              "      margin-bottom: 4px;\n",
              "    }\n",
              "\n",
              "    [theme=dark] .colab-df-convert {\n",
              "      background-color: #3B4455;\n",
              "      fill: #D2E3FC;\n",
              "    }\n",
              "\n",
              "    [theme=dark] .colab-df-convert:hover {\n",
              "      background-color: #434B5C;\n",
              "      box-shadow: 0px 1px 3px 1px rgba(0, 0, 0, 0.15);\n",
              "      filter: drop-shadow(0px 1px 2px rgba(0, 0, 0, 0.3));\n",
              "      fill: #FFFFFF;\n",
              "    }\n",
              "  </style>\n",
              "\n",
              "    <script>\n",
              "      const buttonEl =\n",
              "        document.querySelector('#df-79dcd2ba-b5de-4003-a7f1-1c935c807327 button.colab-df-convert');\n",
              "      buttonEl.style.display =\n",
              "        google.colab.kernel.accessAllowed ? 'block' : 'none';\n",
              "\n",
              "      async function convertToInteractive(key) {\n",
              "        const element = document.querySelector('#df-79dcd2ba-b5de-4003-a7f1-1c935c807327');\n",
              "        const dataTable =\n",
              "          await google.colab.kernel.invokeFunction('convertToInteractive',\n",
              "                                                    [key], {});\n",
              "        if (!dataTable) return;\n",
              "\n",
              "        const docLinkHtml = 'Like what you see? Visit the ' +\n",
              "          '<a target=\"_blank\" href=https://colab.research.google.com/notebooks/data_table.ipynb>data table notebook</a>'\n",
              "          + ' to learn more about interactive tables.';\n",
              "        element.innerHTML = '';\n",
              "        dataTable['output_type'] = 'display_data';\n",
              "        await google.colab.output.renderOutput(dataTable, element);\n",
              "        const docLink = document.createElement('div');\n",
              "        docLink.innerHTML = docLinkHtml;\n",
              "        element.appendChild(docLink);\n",
              "      }\n",
              "    </script>\n",
              "  </div>\n",
              "\n",
              "\n",
              "<div id=\"df-4978ccb9-ab42-435c-b53d-a34bba1439ef\">\n",
              "  <button class=\"colab-df-quickchart\" onclick=\"quickchart('df-4978ccb9-ab42-435c-b53d-a34bba1439ef')\"\n",
              "            title=\"Suggest charts\"\n",
              "            style=\"display:none;\">\n",
              "\n",
              "<svg xmlns=\"http://www.w3.org/2000/svg\" height=\"24px\"viewBox=\"0 0 24 24\"\n",
              "     width=\"24px\">\n",
              "    <g>\n",
              "        <path d=\"M19 3H5c-1.1 0-2 .9-2 2v14c0 1.1.9 2 2 2h14c1.1 0 2-.9 2-2V5c0-1.1-.9-2-2-2zM9 17H7v-7h2v7zm4 0h-2V7h2v10zm4 0h-2v-4h2v4z\"/>\n",
              "    </g>\n",
              "</svg>\n",
              "  </button>\n",
              "\n",
              "<style>\n",
              "  .colab-df-quickchart {\n",
              "      --bg-color: #E8F0FE;\n",
              "      --fill-color: #1967D2;\n",
              "      --hover-bg-color: #E2EBFA;\n",
              "      --hover-fill-color: #174EA6;\n",
              "      --disabled-fill-color: #AAA;\n",
              "      --disabled-bg-color: #DDD;\n",
              "  }\n",
              "\n",
              "  [theme=dark] .colab-df-quickchart {\n",
              "      --bg-color: #3B4455;\n",
              "      --fill-color: #D2E3FC;\n",
              "      --hover-bg-color: #434B5C;\n",
              "      --hover-fill-color: #FFFFFF;\n",
              "      --disabled-bg-color: #3B4455;\n",
              "      --disabled-fill-color: #666;\n",
              "  }\n",
              "\n",
              "  .colab-df-quickchart {\n",
              "    background-color: var(--bg-color);\n",
              "    border: none;\n",
              "    border-radius: 50%;\n",
              "    cursor: pointer;\n",
              "    display: none;\n",
              "    fill: var(--fill-color);\n",
              "    height: 32px;\n",
              "    padding: 0;\n",
              "    width: 32px;\n",
              "  }\n",
              "\n",
              "  .colab-df-quickchart:hover {\n",
              "    background-color: var(--hover-bg-color);\n",
              "    box-shadow: 0 1px 2px rgba(60, 64, 67, 0.3), 0 1px 3px 1px rgba(60, 64, 67, 0.15);\n",
              "    fill: var(--button-hover-fill-color);\n",
              "  }\n",
              "\n",
              "  .colab-df-quickchart-complete:disabled,\n",
              "  .colab-df-quickchart-complete:disabled:hover {\n",
              "    background-color: var(--disabled-bg-color);\n",
              "    fill: var(--disabled-fill-color);\n",
              "    box-shadow: none;\n",
              "  }\n",
              "\n",
              "  .colab-df-spinner {\n",
              "    border: 2px solid var(--fill-color);\n",
              "    border-color: transparent;\n",
              "    border-bottom-color: var(--fill-color);\n",
              "    animation:\n",
              "      spin 1s steps(1) infinite;\n",
              "  }\n",
              "\n",
              "  @keyframes spin {\n",
              "    0% {\n",
              "      border-color: transparent;\n",
              "      border-bottom-color: var(--fill-color);\n",
              "      border-left-color: var(--fill-color);\n",
              "    }\n",
              "    20% {\n",
              "      border-color: transparent;\n",
              "      border-left-color: var(--fill-color);\n",
              "      border-top-color: var(--fill-color);\n",
              "    }\n",
              "    30% {\n",
              "      border-color: transparent;\n",
              "      border-left-color: var(--fill-color);\n",
              "      border-top-color: var(--fill-color);\n",
              "      border-right-color: var(--fill-color);\n",
              "    }\n",
              "    40% {\n",
              "      border-color: transparent;\n",
              "      border-right-color: var(--fill-color);\n",
              "      border-top-color: var(--fill-color);\n",
              "    }\n",
              "    60% {\n",
              "      border-color: transparent;\n",
              "      border-right-color: var(--fill-color);\n",
              "    }\n",
              "    80% {\n",
              "      border-color: transparent;\n",
              "      border-right-color: var(--fill-color);\n",
              "      border-bottom-color: var(--fill-color);\n",
              "    }\n",
              "    90% {\n",
              "      border-color: transparent;\n",
              "      border-bottom-color: var(--fill-color);\n",
              "    }\n",
              "  }\n",
              "</style>\n",
              "\n",
              "  <script>\n",
              "    async function quickchart(key) {\n",
              "      const quickchartButtonEl =\n",
              "        document.querySelector('#' + key + ' button');\n",
              "      quickchartButtonEl.disabled = true;  // To prevent multiple clicks.\n",
              "      quickchartButtonEl.classList.add('colab-df-spinner');\n",
              "      try {\n",
              "        const charts = await google.colab.kernel.invokeFunction(\n",
              "            'suggestCharts', [key], {});\n",
              "      } catch (error) {\n",
              "        console.error('Error during call to suggestCharts:', error);\n",
              "      }\n",
              "      quickchartButtonEl.classList.remove('colab-df-spinner');\n",
              "      quickchartButtonEl.classList.add('colab-df-quickchart-complete');\n",
              "    }\n",
              "    (() => {\n",
              "      let quickchartButtonEl =\n",
              "        document.querySelector('#df-4978ccb9-ab42-435c-b53d-a34bba1439ef button');\n",
              "      quickchartButtonEl.style.display =\n",
              "        google.colab.kernel.accessAllowed ? 'block' : 'none';\n",
              "    })();\n",
              "  </script>\n",
              "</div>\n",
              "\n",
              "    </div>\n",
              "  </div>\n"
            ],
            "application/vnd.google.colaboratory.intrinsic+json": {
              "type": "dataframe",
              "summary": "{\n  \"name\": \"pd\",\n  \"rows\": 4,\n  \"fields\": [\n    {\n      \"column\": \"Train\",\n      \"properties\": {\n        \"dtype\": \"number\",\n        \"std\": 1653,\n        \"min\": 2832,\n        \"max\": 6834,\n        \"num_unique_values\": 4,\n        \"samples\": [\n          4685,\n          2832,\n          6834\n        ],\n        \"semantic_type\": \"\",\n        \"description\": \"\"\n      }\n    },\n    {\n      \"column\": \"Test\",\n      \"properties\": {\n        \"dtype\": \"number\",\n        \"std\": 340,\n        \"min\": 955,\n        \"max\": 1770,\n        \"num_unique_values\": 4,\n        \"samples\": [\n          1245,\n          955,\n          1770\n        ],\n        \"semantic_type\": \"\",\n        \"description\": \"\"\n      }\n    }\n  ]\n}"
            }
          },
          "metadata": {},
          "execution_count": 5
        }
      ],
      "source": [
        "pd.concat([Train_Count,Test_Count] , axis=1)"
      ]
    },
    {
      "cell_type": "code",
      "execution_count": 6,
      "metadata": {
        "colab": {
          "base_uri": "https://localhost:8080/",
          "height": 448
        },
        "id": "85np-T5-cK3M",
        "outputId": "7955558e-9f78-4932-8fa1-b499d35c62ba"
      },
      "outputs": [
        {
          "output_type": "execute_result",
          "data": {
            "text/plain": [
              "<Axes: >"
            ]
          },
          "metadata": {},
          "execution_count": 6
        },
        {
          "output_type": "display_data",
          "data": {
            "text/plain": [
              "<Figure size 640x480 with 1 Axes>"
            ],
            "image/png": "[encoded data removed]"
          },
          "metadata": {}
        }
      ],
      "source": [
        "Train_Count.plot(kind='barh')"
      ]
    },
    {
      "cell_type": "code",
      "execution_count": 7,
      "metadata": {
        "colab": {
          "base_uri": "https://localhost:8080/",
          "height": 448
        },
        "id": "tAydj7OOcK3N",
        "outputId": "d2cfe899-e6ce-4830-e9f5-f2f7cd81c2ec"
      },
      "outputs": [
        {
          "output_type": "execute_result",
          "data": {
            "text/plain": [
              "<Axes: >"
            ]
          },
          "metadata": {},
          "execution_count": 7
        },
        {
          "output_type": "display_data",
          "data": {
            "text/plain": [
              "<Figure size 640x480 with 1 Axes>"
            ],
            "image/png": "[encoded data removed]"
          },
          "metadata": {}
        }
      ],
      "source": [
        "Test_Count.plot(kind='barh')"
      ]
    },
    {
      "cell_type": "code",
      "execution_count": 9,
      "metadata": {
        "colab": {
          "base_uri": "https://localhost:8080/",
          "height": 233
        },
        "id": "jrajJd6QcK3O",
        "outputId": "38ef7cf3-50d9-471c-8f04-a6125b30bd2c"
      },
      "outputs": [
        {
          "output_type": "error",
          "ename": "FileNotFoundError",
          "evalue": "[Errno 2] No such file or directory: '/content/FER13_cleaner/trainangry'",
          "traceback": [
            "\u001b[0;31m---------------------------------------------------------------------------\u001b[0m",
            "\u001b[0;31mFileNotFoundError\u001b[0m                         Traceback (most recent call last)",
            "\u001b[0;32m<ipython-input-9-b5bc08e3f7c3>\u001b[0m in \u001b[0;36m<cell line: 6>\u001b[0;34m()\u001b[0m\n\u001b[1;32m      6\u001b[0m \u001b[0;32mfor\u001b[0m \u001b[0mdirectory\u001b[0m \u001b[0;32min\u001b[0m \u001b[0mos\u001b[0m\u001b[0;34m.\u001b[0m\u001b[0mlistdir\u001b[0m\u001b[0;34m(\u001b[0m\u001b[0mBASE_URL\u001b[0m\u001b[0;34m)\u001b[0m\u001b[0;34m:\u001b[0m\u001b[0;34m\u001b[0m\u001b[0;34m\u001b[0m\u001b[0m\n\u001b[1;32m      7\u001b[0m     \u001b[0;32mif\u001b[0m \u001b[0mdirectory\u001b[0m\u001b[0;34m[\u001b[0m\u001b[0;36m0\u001b[0m\u001b[0;34m]\u001b[0m \u001b[0;34m!=\u001b[0m \u001b[0;34m'.'\u001b[0m\u001b[0;34m:\u001b[0m\u001b[0;34m\u001b[0m\u001b[0;34m\u001b[0m\u001b[0m\n\u001b[0;32m----> 8\u001b[0;31m         \u001b[0;32mfor\u001b[0m \u001b[0mi\u001b[0m\u001b[0;34m,\u001b[0m \u001b[0mfile\u001b[0m \u001b[0;32min\u001b[0m \u001b[0menumerate\u001b[0m\u001b[0;34m(\u001b[0m\u001b[0mos\u001b[0m\u001b[0;34m.\u001b[0m\u001b[0mlistdir\u001b[0m\u001b[0;34m(\u001b[0m\u001b[0mBASE_URL\u001b[0m \u001b[0;34m+\u001b[0m \u001b[0mdirectory\u001b[0m\u001b[0;34m)\u001b[0m\u001b[0;34m)\u001b[0m\u001b[0;34m:\u001b[0m\u001b[0;34m\u001b[0m\u001b[0;34m\u001b[0m\u001b[0m\n\u001b[0m\u001b[1;32m      9\u001b[0m             \u001b[0;32mif\u001b[0m \u001b[0mi\u001b[0m \u001b[0;34m==\u001b[0m \u001b[0;36m1\u001b[0m\u001b[0;34m:\u001b[0m\u001b[0;34m\u001b[0m\u001b[0;34m\u001b[0m\u001b[0m\n\u001b[1;32m     10\u001b[0m                 \u001b[0;32mbreak\u001b[0m\u001b[0;34m\u001b[0m\u001b[0;34m\u001b[0m\u001b[0m\n",
            "\u001b[0;31mFileNotFoundError\u001b[0m: [Errno 2] No such file or directory: '/content/FER13_cleaner/trainangry'"
          ]
        },
        {
          "output_type": "display_data",
          "data": {
            "text/plain": [
              "<Figure size 2500x800 with 0 Axes>"
            ]
          },
          "metadata": {}
        }
      ],
      "source": [
        "plt.style.use('default')\n",
        "plt.figure(figsize = (25, 8))\n",
        "image_count = 1\n",
        "BASE_URL = '/content/FER13_cleaner/train'\n",
        "\n",
        "for directory in os.listdir(BASE_URL):\n",
        "    if directory[0] != '.':\n",
        "        for i, file in enumerate(os.listdir(BASE_URL + directory)):\n",
        "            if i == 1:\n",
        "                break\n",
        "            else:\n",
        "                fig = plt.subplot(1, 4, image_count)\n",
        "                image_count += 1\n",
        "                image = cv2.imread(BASE_URL + directory + '/' + file)\n",
        "                plt.imshow(image)\n",
        "                plt.title(directory, fontsize = 20)"
      ]
    },
    {
      "cell_type": "markdown",
      "metadata": {
        "id": "Ml6az1aFcK3Q"
      },
      "source": [
        "# **Data Preprocessing**"
      ]
    },
    {
      "cell_type": "code",
      "execution_count": 10,
      "metadata": {
        "id": "ZKXO7pCFcK3Q"
      },
      "outputs": [],
      "source": [
        "img_shape = 48\n",
        "batch_size = 64\n",
        "train_data_path = '/content/FER13_cleaner/train'\n",
        "test_data_path = '/content/FER13_cleaner/test'"
      ]
    },
    {
      "cell_type": "code",
      "execution_count": 11,
      "metadata": {
        "colab": {
          "base_uri": "https://localhost:8080/"
        },
        "id": "TOlnNiY9cK3R",
        "outputId": "ade7a9f9-3ae7-48dc-fff7-b3640ed078e5"
      },
      "outputs": [
        {
          "output_type": "stream",
          "name": "stdout",
          "text": [
            "Found 18646 images belonging to 4 classes.\n",
            "Found 5203 images belonging to 4 classes.\n"
          ]
        }
      ],
      "source": [
        "train_preprocessor = ImageDataGenerator(\n",
        "        rescale = 1 / 255.,\n",
        "        # Data Augmentation\n",
        "        rotation_range=10,\n",
        "        zoom_range=0.2,\n",
        "        width_shift_range=0.1,\n",
        "        height_shift_range=0.1,\n",
        "        horizontal_flip=True,\n",
        "        fill_mode='nearest',\n",
        "    )\n",
        "\n",
        "\n",
        "test_preprocessor = ImageDataGenerator(\n",
        "    rescale = 1 / 255.,\n",
        ")\n",
        "\n",
        "train_data = train_preprocessor.flow_from_directory(\n",
        "    train_data_path,\n",
        "    class_mode=\"categorical\",\n",
        "    target_size=(img_shape,img_shape),\n",
        "    color_mode='rgb',\n",
        "    shuffle=True,\n",
        "    batch_size=batch_size,\n",
        "    subset='training',\n",
        ")\n",
        "\n",
        "\n",
        "test_data = test_preprocessor.flow_from_directory(\n",
        "    test_data_path,\n",
        "    class_mode=\"categorical\",\n",
        "    target_size=(img_shape,img_shape),\n",
        "    color_mode=\"rgb\",\n",
        "    shuffle=False,\n",
        "    batch_size=batch_size,\n",
        ")"
      ]
    },
    {
      "cell_type": "markdown",
      "metadata": {
        "id": "3_fBEuJvg4iZ"
      },
      "source": [
        "# **Building CNN Model**"
      ]
    },
    {
      "cell_type": "code",
      "execution_count": 12,
      "metadata": {
        "id": "oeA1n1Wfg4iZ"
      },
      "outputs": [],
      "source": [
        "def Create_CNN_Model():\n",
        "\n",
        "    model = Sequential()\n",
        "\n",
        "    #CNN1\n",
        "    model.add(Conv2D(32, (3,3), activation='relu', input_shape=(img_shape, img_shape, 3)))\n",
        "    model.add(BatchNormalization())\n",
        "    model.add(Conv2D(64,(3,3), activation='relu', padding='same'))\n",
        "    model.add(BatchNormalization())\n",
        "    model.add(MaxPooling2D(pool_size=(2,2), padding='same'))\n",
        "    model.add(Dropout(0.25))\n",
        "\n",
        "    #CNN2\n",
        "    model.add(Conv2D(64, (3,3), activation='relu', ))\n",
        "    model.add(BatchNormalization())\n",
        "    model.add(Conv2D(128,(3,3), activation='relu', padding='same'))\n",
        "    model.add(BatchNormalization())\n",
        "    model.add(MaxPooling2D(pool_size=(2,2), padding='same'))\n",
        "    model.add(Dropout(0.25))\n",
        "\n",
        "    #CNN3\n",
        "    model.add(Conv2D(128, (3,3), activation='relu'))\n",
        "    model.add(BatchNormalization())\n",
        "    model.add(Conv2D(256,(3,3), activation='relu', padding='same'))\n",
        "    model.add(BatchNormalization())\n",
        "    model.add(MaxPooling2D(pool_size=(2,2), padding='same'))\n",
        "    model.add(Dropout(0.25))\n",
        "\n",
        "\n",
        "    #Output\n",
        "    model.add(Flatten())\n",
        "\n",
        "    model.add(Dense(1024, activation='relu'))\n",
        "    model.add(BatchNormalization())\n",
        "    model.add(Dropout(0.25))\n",
        "\n",
        "    model.add(Dense(512, activation='relu'))\n",
        "    model.add(BatchNormalization())\n",
        "    model.add(Dropout(0.25))\n",
        "\n",
        "    model.add(Dense(256, activation='relu'))\n",
        "    model.add(BatchNormalization())\n",
        "    model.add(Dropout(0.25))\n",
        "\n",
        "    model.add(Dense(128, activation='relu'))\n",
        "    model.add(BatchNormalization())\n",
        "    model.add(Dropout(0.25))\n",
        "\n",
        "    model.add(Dense(64, activation='relu'))\n",
        "    model.add(BatchNormalization())\n",
        "    model.add(Dropout(0.25))\n",
        "\n",
        "    model.add(Dense(32, activation='relu'))\n",
        "    model.add(BatchNormalization())\n",
        "    model.add(Dropout(0.25))\n",
        "\n",
        "    model.add(Dense(4,activation='softmax'))\n",
        "\n",
        "\n",
        "    return model"
      ]
    },
    {
      "cell_type": "code",
      "execution_count": 13,
      "metadata": {
        "colab": {
          "base_uri": "https://localhost:8080/"
        },
        "id": "E1TV5dQGg4ia",
        "outputId": "798ec100-23b6-4ac2-e854-86fb230efc4c"
      },
      "outputs": [
        {
          "output_type": "stream",
          "name": "stdout",
          "text": [
            "Model: \"sequential\"\n",
            "_________________________________________________________________\n",
            " Layer (type)                Output Shape              Param #   \n",
            "=================================================================\n",
            " conv2d (Conv2D)             (None, 46, 46, 32)        896       \n",
            "                                                                 \n",
            " batch_normalization (Batch  (None, 46, 46, 32)        128       \n",
            " Normalization)                                                  \n",
            "                                                                 \n",
            " conv2d_1 (Conv2D)           (None, 46, 46, 64)        18496     \n",
            "                                                                 \n",
            " batch_normalization_1 (Bat  (None, 46, 46, 64)        256       \n",
            " chNormalization)                                                \n",
            "                                                                 \n",
            " max_pooling2d (MaxPooling2  (None, 23, 23, 64)        0         \n",
            " D)                                                              \n",
            "                                                                 \n",
            " dropout (Dropout)           (None, 23, 23, 64)        0         \n",
            "                                                                 \n",
            " conv2d_2 (Conv2D)           (None, 21, 21, 64)        36928     \n",
            "                                                                 \n",
            " batch_normalization_2 (Bat  (None, 21, 21, 64)        256       \n",
            " chNormalization)                                                \n",
            "                                                                 \n",
            " conv2d_3 (Conv2D)           (None, 21, 21, 128)       73856     \n",
            "                                                                 \n",
            " batch_normalization_3 (Bat  (None, 21, 21, 128)       512       \n",
            " chNormalization)                                                \n",
            "                                                                 \n",
            " max_pooling2d_1 (MaxPoolin  (None, 11, 11, 128)       0         \n",
            " g2D)                                                            \n",
            "                                                                 \n",
            " dropout_1 (Dropout)         (None, 11, 11, 128)       0         \n",
            "                                                                 \n",
            " conv2d_4 (Conv2D)           (None, 9, 9, 128)         147584    \n",
            "                                                                 \n",
            " batch_normalization_4 (Bat  (None, 9, 9, 128)         512       \n",
            " chNormalization)                                                \n",
            "                                                                 \n",
            " conv2d_5 (Conv2D)           (None, 9, 9, 256)         295168    \n",
            "                                                                 \n",
            " batch_normalization_5 (Bat  (None, 9, 9, 256)         1024      \n",
            " chNormalization)                                                \n",
            "                                                                 \n",
            " max_pooling2d_2 (MaxPoolin  (None, 5, 5, 256)         0         \n",
            " g2D)                                                            \n",
            "                                                                 \n",
            " dropout_2 (Dropout)         (None, 5, 5, 256)         0         \n",
            "                                                                 \n",
            " flatten (Flatten)           (None, 6400)              0         \n",
            "                                                                 \n",
            " dense (Dense)               (None, 1024)              6554624   \n",
            "                                                                 \n",
            " batch_normalization_6 (Bat  (None, 1024)              4096      \n",
            " chNormalization)                                                \n",
            "                                                                 \n",
            " dropout_3 (Dropout)         (None, 1024)              0         \n",
            "                                                                 \n",
            " dense_1 (Dense)             (None, 512)               524800    \n",
            "                                                                 \n",
            " batch_normalization_7 (Bat  (None, 512)               2048      \n",
            " chNormalization)                                                \n",
            "                                                                 \n",
            " dropout_4 (Dropout)         (None, 512)               0         \n",
            "                                                                 \n",
            " dense_2 (Dense)             (None, 256)               131328    \n",
            "                                                                 \n",
            " batch_normalization_8 (Bat  (None, 256)               1024      \n",
            " chNormalization)                                                \n",
            "                                                                 \n",
            " dropout_5 (Dropout)         (None, 256)               0         \n",
            "                                                                 \n",
            " dense_3 (Dense)             (None, 128)               32896     \n",
            "                                                                 \n",
            " batch_normalization_9 (Bat  (None, 128)               512       \n",
            " chNormalization)                                                \n",
            "                                                                 \n",
            " dropout_6 (Dropout)         (None, 128)               0         \n",
            "                                                                 \n",
            " dense_4 (Dense)             (None, 64)                8256      \n",
            "                                                                 \n",
            " batch_normalization_10 (Ba  (None, 64)                256       \n",
            " tchNormalization)                                               \n",
            "                                                                 \n",
            " dropout_7 (Dropout)         (None, 64)                0         \n",
            "                                                                 \n",
            " dense_5 (Dense)             (None, 32)                2080      \n",
            "                                                                 \n",
            " batch_normalization_11 (Ba  (None, 32)                128       \n",
            " tchNormalization)                                               \n",
            "                                                                 \n",
            " dropout_8 (Dropout)         (None, 32)                0         \n",
            "                                                                 \n",
            " dense_6 (Dense)             (None, 4)                 132       \n",
            "                                                                 \n",
            "=================================================================\n",
            "Total params: 7837796 (29.90 MB)\n",
            "Trainable params: 7832420 (29.88 MB)\n",
            "Non-trainable params: 5376 (21.00 KB)\n",
            "_________________________________________________________________\n"
          ]
        }
      ],
      "source": [
        "CNN_Model = Create_CNN_Model()\n",
        "\n",
        "CNN_Model.summary()\n",
        "\n",
        "CNN_Model.compile(optimizer=\"adam\", loss='categorical_crossentropy', metrics=['accuracy'])"
      ]
    },
    {
      "cell_type": "markdown",
      "metadata": {
        "id": "JfPOc4Reg4ia"
      },
      "source": [
        "**Specifying Callbacks**"
      ]
    },
    {
      "cell_type": "code",
      "execution_count": 14,
      "metadata": {
        "id": "GmRkrBGeg4ib"
      },
      "outputs": [],
      "source": [
        "# Create Callback Checkpoint\n",
        "checkpoint_path = \"CNN_Model_Checkpoint\"\n",
        "\n",
        "Checkpoint = ModelCheckpoint(checkpoint_path, monitor=\"val_accuracy\", save_best_only=True)\n",
        "\n",
        "# Create Early Stopping Callback to monitor the accuracy\n",
        "Early_Stopping = EarlyStopping(monitor = 'val_accuracy', patience = 15, restore_best_weights = True, verbose=1)\n",
        "\n",
        "# Create ReduceLROnPlateau Callback to reduce overfitting by decreasing learning rate\n",
        "Reducing_LR = tf.keras.callbacks.ReduceLROnPlateau( monitor='val_loss',\n",
        "                                                  factor=0.2,\n",
        "                                                  patience=2,\n",
        "#                                                   min_lr=0.000005,\n",
        "                                                  verbose=1)\n",
        "\n",
        "callbacks = [Early_Stopping, Reducing_LR]\n",
        "\n",
        "steps_per_epoch = train_data.n // train_data.batch_size\n",
        "validation_steps = test_data.n // test_data.batch_size"
      ]
    },
    {
      "cell_type": "code",
      "execution_count": 15,
      "metadata": {
        "colab": {
          "base_uri": "https://localhost:8080/"
        },
        "id": "_8fvDLG2g4id",
        "outputId": "6e83dd45-3218-4464-8d93-e7ea3314f33c"
      },
      "outputs": [
        {
          "output_type": "stream",
          "name": "stdout",
          "text": [
            "Epoch 1/80\n",
            "291/291 [==============================] - 50s 118ms/step - loss: 1.5666 - accuracy: 0.3160 - val_loss: 1.6202 - val_accuracy: 0.3414 - lr: 0.0010\n",
            "Epoch 2/80\n",
            "291/291 [==============================] - 31s 106ms/step - loss: 1.3698 - accuracy: 0.3601 - val_loss: 1.2784 - val_accuracy: 0.4213 - lr: 0.0010\n",
            "Epoch 3/80\n",
            "291/291 [==============================] - 30s 103ms/step - loss: 1.2660 - accuracy: 0.4285 - val_loss: 1.1671 - val_accuracy: 0.4738 - lr: 0.0010\n",
            "Epoch 4/80\n",
            "291/291 [==============================] - 30s 103ms/step - loss: 1.1719 - accuracy: 0.4742 - val_loss: 1.1807 - val_accuracy: 0.4759 - lr: 0.0010\n",
            "Epoch 5/80\n",
            "291/291 [==============================] - ETA: 0s - loss: 1.0947 - accuracy: 0.5163\n",
            "Epoch 5: ReduceLROnPlateau reducing learning rate to 0.00020000000949949026.\n",
            "291/291 [==============================] - 34s 116ms/step - loss: 1.0947 - accuracy: 0.5163 - val_loss: 1.2784 - val_accuracy: 0.4614 - lr: 0.0010\n",
            "Epoch 6/80\n",
            "291/291 [==============================] - 31s 105ms/step - loss: 1.0213 - accuracy: 0.5523 - val_loss: 0.9701 - val_accuracy: 0.5721 - lr: 2.0000e-04\n",
            "Epoch 7/80\n",
            "291/291 [==============================] - 30s 105ms/step - loss: 0.9919 - accuracy: 0.5691 - val_loss: 0.9367 - val_accuracy: 0.5936 - lr: 2.0000e-04\n",
            "Epoch 8/80\n",
            "291/291 [==============================] - 30s 103ms/step - loss: 0.9788 - accuracy: 0.5786 - val_loss: 0.9003 - val_accuracy: 0.6155 - lr: 2.0000e-04\n",
            "Epoch 9/80\n",
            "291/291 [==============================] - 30s 104ms/step - loss: 0.9440 - accuracy: 0.5998 - val_loss: 0.9096 - val_accuracy: 0.6109 - lr: 2.0000e-04\n",
            "Epoch 10/80\n",
            "291/291 [==============================] - 32s 110ms/step - loss: 0.9251 - accuracy: 0.6097 - val_loss: 0.8487 - val_accuracy: 0.6391 - lr: 2.0000e-04\n",
            "Epoch 11/80\n",
            "291/291 [==============================] - 30s 103ms/step - loss: 0.9062 - accuracy: 0.6235 - val_loss: 0.9359 - val_accuracy: 0.6127 - lr: 2.0000e-04\n",
            "Epoch 12/80\n",
            "291/291 [==============================] - ETA: 0s - loss: 0.8963 - accuracy: 0.6265\n",
            "Epoch 12: ReduceLROnPlateau reducing learning rate to 4.0000001899898055e-05.\n",
            "291/291 [==============================] - 30s 103ms/step - loss: 0.8963 - accuracy: 0.6265 - val_loss: 0.8837 - val_accuracy: 0.6242 - lr: 2.0000e-04\n",
            "Epoch 13/80\n",
            "291/291 [==============================] - 31s 105ms/step - loss: 0.8644 - accuracy: 0.6454 - val_loss: 0.8049 - val_accuracy: 0.6578 - lr: 4.0000e-05\n",
            "Epoch 14/80\n",
            "291/291 [==============================] - 30s 103ms/step - loss: 0.8483 - accuracy: 0.6522 - val_loss: 0.8023 - val_accuracy: 0.6588 - lr: 4.0000e-05\n",
            "Epoch 15/80\n",
            "291/291 [==============================] - 30s 104ms/step - loss: 0.8467 - accuracy: 0.6553 - val_loss: 0.8121 - val_accuracy: 0.6593 - lr: 4.0000e-05\n",
            "Epoch 16/80\n",
            "291/291 [==============================] - 32s 111ms/step - loss: 0.8396 - accuracy: 0.6603 - val_loss: 0.7906 - val_accuracy: 0.6655 - lr: 4.0000e-05\n",
            "Epoch 17/80\n",
            "291/291 [==============================] - 30s 104ms/step - loss: 0.8335 - accuracy: 0.6638 - val_loss: 0.7867 - val_accuracy: 0.6667 - lr: 4.0000e-05\n",
            "Epoch 18/80\n",
            "291/291 [==============================] - 31s 106ms/step - loss: 0.8306 - accuracy: 0.6626 - val_loss: 0.7999 - val_accuracy: 0.6624 - lr: 4.0000e-05\n",
            "Epoch 19/80\n",
            "291/291 [==============================] - ETA: 0s - loss: 0.8328 - accuracy: 0.6623\n",
            "Epoch 19: ReduceLROnPlateau reducing learning rate to 8.000000525498762e-06.\n",
            "291/291 [==============================] - 30s 104ms/step - loss: 0.8328 - accuracy: 0.6623 - val_loss: 0.7869 - val_accuracy: 0.6642 - lr: 4.0000e-05\n",
            "Epoch 20/80\n",
            "291/291 [==============================] - 31s 107ms/step - loss: 0.8305 - accuracy: 0.6632 - val_loss: 0.7805 - val_accuracy: 0.6728 - lr: 8.0000e-06\n",
            "Epoch 21/80\n",
            "291/291 [==============================] - 30s 104ms/step - loss: 0.8187 - accuracy: 0.6684 - val_loss: 0.7814 - val_accuracy: 0.6740 - lr: 8.0000e-06\n",
            "Epoch 22/80\n",
            "291/291 [==============================] - 32s 109ms/step - loss: 0.8199 - accuracy: 0.6681 - val_loss: 0.7773 - val_accuracy: 0.6730 - lr: 8.0000e-06\n",
            "Epoch 23/80\n",
            "291/291 [==============================] - 30s 104ms/step - loss: 0.8180 - accuracy: 0.6696 - val_loss: 0.7767 - val_accuracy: 0.6742 - lr: 8.0000e-06\n",
            "Epoch 24/80\n",
            "291/291 [==============================] - 31s 106ms/step - loss: 0.8140 - accuracy: 0.6695 - val_loss: 0.7765 - val_accuracy: 0.6753 - lr: 8.0000e-06\n",
            "Epoch 25/80\n",
            "291/291 [==============================] - 32s 110ms/step - loss: 0.8151 - accuracy: 0.6738 - val_loss: 0.7761 - val_accuracy: 0.6775 - lr: 8.0000e-06\n",
            "Epoch 26/80\n",
            "291/291 [==============================] - 31s 106ms/step - loss: 0.8086 - accuracy: 0.6746 - val_loss: 0.7766 - val_accuracy: 0.6746 - lr: 8.0000e-06\n",
            "Epoch 27/80\n",
            "291/291 [==============================] - 37s 129ms/step - loss: 0.8121 - accuracy: 0.6736 - val_loss: 0.7728 - val_accuracy: 0.6765 - lr: 8.0000e-06\n",
            "Epoch 28/80\n",
            "291/291 [==============================] - 30s 105ms/step - loss: 0.8046 - accuracy: 0.6772 - val_loss: 0.7765 - val_accuracy: 0.6740 - lr: 8.0000e-06\n",
            "Epoch 29/80\n",
            "291/291 [==============================] - ETA: 0s - loss: 0.8072 - accuracy: 0.6795\n",
            "Epoch 29: ReduceLROnPlateau reducing learning rate to 1.6000001778593287e-06.\n",
            "291/291 [==============================] - 30s 105ms/step - loss: 0.8072 - accuracy: 0.6795 - val_loss: 0.7742 - val_accuracy: 0.6773 - lr: 8.0000e-06\n",
            "Epoch 30/80\n",
            "291/291 [==============================] - 32s 108ms/step - loss: 0.8072 - accuracy: 0.6737 - val_loss: 0.7730 - val_accuracy: 0.6769 - lr: 1.6000e-06\n",
            "Epoch 31/80\n",
            "291/291 [==============================] - ETA: 0s - loss: 0.8012 - accuracy: 0.6758\n",
            "Epoch 31: ReduceLROnPlateau reducing learning rate to 3.200000264769187e-07.\n",
            "291/291 [==============================] - 34s 116ms/step - loss: 0.8012 - accuracy: 0.6758 - val_loss: 0.7732 - val_accuracy: 0.6765 - lr: 1.6000e-06\n",
            "Epoch 32/80\n",
            "291/291 [==============================] - 31s 107ms/step - loss: 0.8075 - accuracy: 0.6770 - val_loss: 0.7727 - val_accuracy: 0.6773 - lr: 3.2000e-07\n",
            "Epoch 33/80\n",
            "291/291 [==============================] - ETA: 0s - loss: 0.8084 - accuracy: 0.6722\n",
            "Epoch 33: ReduceLROnPlateau reducing learning rate to 6.400000529538374e-08.\n",
            "291/291 [==============================] - 39s 134ms/step - loss: 0.8084 - accuracy: 0.6722 - val_loss: 0.7733 - val_accuracy: 0.6767 - lr: 3.2000e-07\n",
            "Epoch 34/80\n",
            "291/291 [==============================] - 31s 106ms/step - loss: 0.8095 - accuracy: 0.6773 - val_loss: 0.7725 - val_accuracy: 0.6782 - lr: 6.4000e-08\n",
            "Epoch 35/80\n",
            "291/291 [==============================] - 31s 108ms/step - loss: 0.8082 - accuracy: 0.6759 - val_loss: 0.7724 - val_accuracy: 0.6769 - lr: 6.4000e-08\n",
            "Epoch 36/80\n",
            "291/291 [==============================] - ETA: 0s - loss: 0.8097 - accuracy: 0.6733\n",
            "Epoch 36: ReduceLROnPlateau reducing learning rate to 1.2800001059076749e-08.\n",
            "291/291 [==============================] - 31s 108ms/step - loss: 0.8097 - accuracy: 0.6733 - val_loss: 0.7731 - val_accuracy: 0.6769 - lr: 6.4000e-08\n",
            "Epoch 37/80\n",
            "291/291 [==============================] - 31s 106ms/step - loss: 0.8131 - accuracy: 0.6718 - val_loss: 0.7726 - val_accuracy: 0.6779 - lr: 1.2800e-08\n",
            "Epoch 38/80\n",
            "291/291 [==============================] - ETA: 0s - loss: 0.8060 - accuracy: 0.6758\n",
            "Epoch 38: ReduceLROnPlateau reducing learning rate to 2.5600002118153498e-09.\n",
            "291/291 [==============================] - 31s 108ms/step - loss: 0.8060 - accuracy: 0.6758 - val_loss: 0.7729 - val_accuracy: 0.6775 - lr: 1.2800e-08\n",
            "Epoch 39/80\n",
            "291/291 [==============================] - 30s 104ms/step - loss: 0.8114 - accuracy: 0.6743 - val_loss: 0.7728 - val_accuracy: 0.6773 - lr: 2.5600e-09\n",
            "Epoch 40/80\n",
            "291/291 [==============================] - ETA: 0s - loss: 0.8078 - accuracy: 0.6758\n",
            "Epoch 40: ReduceLROnPlateau reducing learning rate to 5.1200004236307e-10.\n",
            "291/291 [==============================] - 30s 104ms/step - loss: 0.8078 - accuracy: 0.6758 - val_loss: 0.7726 - val_accuracy: 0.6775 - lr: 2.5600e-09\n",
            "Epoch 41/80\n",
            "291/291 [==============================] - 31s 106ms/step - loss: 0.8082 - accuracy: 0.6759 - val_loss: 0.7737 - val_accuracy: 0.6771 - lr: 5.1200e-10\n",
            "Epoch 42/80\n",
            "291/291 [==============================] - ETA: 0s - loss: 0.8101 - accuracy: 0.6745\n",
            "Epoch 42: ReduceLROnPlateau reducing learning rate to 1.0240001069306004e-10.\n",
            "291/291 [==============================] - 30s 104ms/step - loss: 0.8101 - accuracy: 0.6745 - val_loss: 0.7729 - val_accuracy: 0.6777 - lr: 5.1200e-10\n",
            "Epoch 43/80\n",
            "291/291 [==============================] - 32s 109ms/step - loss: 0.8086 - accuracy: 0.6733 - val_loss: 0.7728 - val_accuracy: 0.6761 - lr: 1.0240e-10\n",
            "Epoch 44/80\n",
            "291/291 [==============================] - 31s 105ms/step - loss: 0.8082 - accuracy: 0.6744 - val_loss: 0.7722 - val_accuracy: 0.6782 - lr: 1.0240e-10\n",
            "Epoch 45/80\n",
            "291/291 [==============================] - 31s 105ms/step - loss: 0.8120 - accuracy: 0.6774 - val_loss: 0.7730 - val_accuracy: 0.6775 - lr: 1.0240e-10\n",
            "Epoch 46/80\n",
            "291/291 [==============================] - 31s 106ms/step - loss: 0.8138 - accuracy: 0.6739 - val_loss: 0.7721 - val_accuracy: 0.6780 - lr: 1.0240e-10\n",
            "Epoch 47/80\n",
            "291/291 [==============================] - 32s 111ms/step - loss: 0.8066 - accuracy: 0.6751 - val_loss: 0.7724 - val_accuracy: 0.6779 - lr: 1.0240e-10\n",
            "Epoch 48/80\n",
            "291/291 [==============================] - ETA: 0s - loss: 0.8128 - accuracy: 0.6711\n",
            "Epoch 48: ReduceLROnPlateau reducing learning rate to 2.0480002416167767e-11.\n",
            "291/291 [==============================] - 30s 105ms/step - loss: 0.8128 - accuracy: 0.6711 - val_loss: 0.7725 - val_accuracy: 0.6777 - lr: 1.0240e-10\n",
            "Epoch 49/80\n",
            "291/291 [==============================] - ETA: 0s - loss: 0.8072 - accuracy: 0.6771Restoring model weights from the end of the best epoch: 34.\n",
            "291/291 [==============================] - 31s 105ms/step - loss: 0.8072 - accuracy: 0.6771 - val_loss: 0.7729 - val_accuracy: 0.6775 - lr: 2.0480e-11\n",
            "Epoch 49: early stopping\n"
          ]
        }
      ],
      "source": [
        "CNN_history = CNN_Model.fit( train_data , validation_data= test_data , epochs=80, batch_size= batch_size,\n",
        "                            callbacks=callbacks, steps_per_epoch= steps_per_epoch, validation_steps=validation_steps)"
      ]
    },
    {
      "cell_type": "code",
      "source": [
        "# Menyimpan model dalam format HDF5\n",
        "CNN_Model.save('model_optimal.h5')"
      ],
      "metadata": {
        "colab": {
          "base_uri": "https://localhost:8080/"
        },
        "id": "rCy1Ih6EVcfE",
        "outputId": "a2f4570a-a85f-4576-94b4-d44cd420243b"
      },
      "execution_count": 16,
      "outputs": [
        {
          "output_type": "stream",
          "name": "stderr",
          "text": [
            "/usr/local/lib/python3.10/dist-packages/keras/src/engine/training.py:3103: UserWarning: You are saving your model as an HDF5 file via `model.save()`. This file format is considered legacy. We recommend using instead the native Keras format, e.g. `model.save('my_model.keras')`.\n",
            "  saving_api.save_model(\n"
          ]
        }
      ]
    },
    {
      "cell_type": "markdown",
      "metadata": {
        "id": "t8mdy1A9g7iR"
      },
      "source": [
        "# **Evaluating CNN Model**"
      ]
    },
    {
      "cell_type": "code",
      "execution_count": 17,
      "metadata": {
        "id": "Eob2J3slg4ie",
        "colab": {
          "base_uri": "https://localhost:8080/"
        },
        "outputId": "9e861412-2f0b-438f-f1d3-c8b939b02582"
      },
      "outputs": [
        {
          "output_type": "stream",
          "name": "stdout",
          "text": [
            "82/82 [==============================] - 2s 28ms/step - loss: 0.7738 - accuracy: 0.6775\n",
            "    Test Loss: 0.77383\n",
            "Test Accuracy: 67.75%\n"
          ]
        }
      ],
      "source": [
        "CNN_Score = CNN_Model.evaluate(test_data)\n",
        "\n",
        "print(\"    Test Loss: {:.5f}\".format(CNN_Score[0]))\n",
        "print(\"Test Accuracy: {:.2f}%\".format(CNN_Score[1] * 100))"
      ]
    },
    {
      "cell_type": "code",
      "execution_count": 18,
      "metadata": {
        "id": "k65iFZgxg4if"
      },
      "outputs": [],
      "source": [
        "def plot_curves(history):\n",
        "\n",
        "    loss = history.history[\"loss\"]\n",
        "    val_loss = history.history[\"val_loss\"]\n",
        "\n",
        "    accuracy = history.history[\"accuracy\"]\n",
        "    val_accuracy = history.history[\"val_accuracy\"]\n",
        "\n",
        "    epochs = range(len(history.history[\"loss\"]))\n",
        "\n",
        "    plt.figure(figsize=(15,5))\n",
        "\n",
        "    #plot loss\n",
        "    plt.subplot(1, 2, 1)\n",
        "    plt.plot(epochs, loss, label = \"training_loss\")\n",
        "    plt.plot(epochs, val_loss, label = \"val_loss\")\n",
        "    plt.title(\"Loss\")\n",
        "    plt.xlabel(\"epochs\")\n",
        "    plt.legend()\n",
        "\n",
        "    #plot accuracy\n",
        "    plt.subplot(1, 2, 2)\n",
        "    plt.plot(epochs, accuracy, label = \"training_accuracy\")\n",
        "    plt.plot(epochs, val_accuracy, label = \"val_accuracy\")\n",
        "    plt.title(\"Accuracy\")\n",
        "    plt.xlabel(\"epochs\")\n",
        "    plt.legend()\n",
        "\n",
        "  #plt.tight_layout()"
      ]
    },
    {
      "cell_type": "code",
      "execution_count": 19,
      "metadata": {
        "id": "eE0FwYAog4ig",
        "colab": {
          "base_uri": "https://localhost:8080/",
          "height": 408
        },
        "outputId": "265544aa-040f-4579-c16d-4f9234ea21ff"
      },
      "outputs": [
        {
          "output_type": "display_data",
          "data": {
            "text/plain": [
              "<Figure size 1500x500 with 2 Axes>"
            ],
            "image/png": "[encoded data removed]"
          },
          "metadata": {}
        }
      ],
      "source": [
        "plot_curves(CNN_history)"
      ]
    },
    {
      "cell_type": "code",
      "execution_count": 20,
      "metadata": {
        "id": "FV4wVKD0g4ig",
        "colab": {
          "base_uri": "https://localhost:8080/"
        },
        "outputId": "c4903a51-a27b-45c6-d07c-6e9ddc5488bb"
      },
      "outputs": [
        {
          "output_type": "stream",
          "name": "stdout",
          "text": [
            "82/82 [==============================] - 2s 23ms/step\n"
          ]
        }
      ],
      "source": [
        "CNN_Predictions = CNN_Model.predict(test_data)\n",
        "\n",
        "# Choosing highest probalbilty class in every prediction\n",
        "CNN_Predictions = np.argmax(CNN_Predictions, axis=1)"
      ]
    },
    {
      "cell_type": "code",
      "execution_count": 21,
      "metadata": {
        "id": "JqVSW2g9g4ih",
        "colab": {
          "base_uri": "https://localhost:8080/"
        },
        "outputId": "988840a8-6e53-4a67-c885-0b681b060bba"
      },
      "outputs": [
        {
          "output_type": "execute_result",
          "data": {
            "text/plain": [
              "{'angry': 0, 'happy': 1, 'neutral': 2, 'sad': 3}"
            ]
          },
          "metadata": {},
          "execution_count": 21
        }
      ],
      "source": [
        "test_data.class_indices"
      ]
    },
    {
      "cell_type": "code",
      "execution_count": 22,
      "metadata": {
        "id": "POOyREFLg4ih",
        "colab": {
          "base_uri": "https://localhost:8080/",
          "height": 809
        },
        "outputId": "2ae0559c-fc32-443e-b761-52f3e1fabd17"
      },
      "outputs": [
        {
          "output_type": "execute_result",
          "data": {
            "text/plain": [
              "Text(0.5, 1.0, 'CNN Confusion Matrix')"
            ]
          },
          "metadata": {},
          "execution_count": 22
        },
        {
          "output_type": "display_data",
          "data": {
            "text/plain": [
              "<Figure size 1500x1000 with 2 Axes>"
            ],
            "image/png": "[encoded data removed]"
          },
          "metadata": {}
        }
      ],
      "source": [
        "import seaborn as sns\n",
        "from sklearn.metrics import confusion_matrix\n",
        "\n",
        "fig, ax= plt.subplots(figsize=(15,10))\n",
        "\n",
        "cm=confusion_matrix(test_data.labels, CNN_Predictions)\n",
        "\n",
        "sns.heatmap(cm, annot=True, fmt='g', ax=ax)\n",
        "\n",
        "ax.set_xlabel('Predicted labels',fontsize=15, fontweight='bold')\n",
        "ax.set_ylabel('True labels', fontsize=15, fontweight='bold')\n",
        "ax.set_title('CNN Confusion Matrix', fontsize=20, fontweight='bold')"
      ]
    },
    {
      "cell_type": "code",
      "execution_count": 23,
      "metadata": {
        "id": "IrQ1RiaXcK3X",
        "colab": {
          "base_uri": "https://localhost:8080/"
        },
        "outputId": "c68a88df-f6aa-49ca-b4a2-bb4703e770c2"
      },
      "outputs": [
        {
          "output_type": "stream",
          "name": "stdout",
          "text": [
            "Found 18646 images belonging to 4 classes.\n",
            "Found 5203 images belonging to 4 classes.\n"
          ]
        }
      ],
      "source": [
        "train_preprocessor = ImageDataGenerator(\n",
        "        rescale = 1 / 255.,\n",
        "        rotation_range=10,\n",
        "        zoom_range=0.2,\n",
        "        width_shift_range=0.1,\n",
        "        height_shift_range=0.1,\n",
        "        horizontal_flip=True,\n",
        "        fill_mode='nearest',\n",
        "    )\n",
        "\n",
        "\n",
        "test_preprocessor = ImageDataGenerator(\n",
        "    rescale = 1 / 255.,\n",
        ")\n",
        "\n",
        "train_data = train_preprocessor.flow_from_directory(\n",
        "    train_data_path,\n",
        "    class_mode=\"categorical\",\n",
        "    target_size=(img_shape,img_shape),\n",
        "    color_mode='rgb',\n",
        "    shuffle=True,\n",
        "    batch_size=batch_size,\n",
        "    subset='training',\n",
        ")\n",
        "\n",
        "test_data = test_preprocessor.flow_from_directory(\n",
        "    test_data_path,\n",
        "    class_mode=\"categorical\",\n",
        "    target_size=(img_shape,img_shape),\n",
        "    color_mode=\"rgb\",\n",
        "    shuffle=False,\n",
        "    batch_size=batch_size,\n",
        ")"
      ]
    },
    {
      "cell_type": "markdown",
      "metadata": {
        "id": "5lQctNn2g7iZ"
      },
      "source": [
        "**Specifying Callbacks**"
      ]
    },
    {
      "cell_type": "markdown",
      "metadata": {
        "id": "9-KBB9vecK3a"
      },
      "source": [
        "# **Visualizing Predictions**"
      ]
    },
    {
      "cell_type": "code",
      "execution_count": 24,
      "metadata": {
        "id": "MZNLFgF0cK3a"
      },
      "outputs": [],
      "source": [
        "Emotion_Classes = ['Angry',\n",
        "                  'Happy',\n",
        "                  'Neutral',\n",
        "                  'Sad',]"
      ]
    },
    {
      "cell_type": "code",
      "execution_count": 25,
      "metadata": {
        "id": "lfdvcajhcK3a",
        "colab": {
          "base_uri": "https://localhost:8080/"
        },
        "outputId": "4cd0f490-d39a-4384-8df7-80498cfb9327"
      },
      "outputs": [
        {
          "output_type": "stream",
          "name": "stdout",
          "text": [
            "Found 5203 images belonging to 4 classes.\n"
          ]
        }
      ],
      "source": [
        "# Shuffling Test Data to show diffrent classes\n",
        "test_preprocessor = ImageDataGenerator(\n",
        "        rescale = 1 / 255.,\n",
        "    )\n",
        "\n",
        "test_generator = test_preprocessor.flow_from_directory(\n",
        "    test_data_path,\n",
        "    class_mode=\"categorical\",\n",
        "    target_size=(img_shape,img_shape),\n",
        "    color_mode=\"rgb\",\n",
        "    shuffle=True,\n",
        "    batch_size=batch_size,\n",
        ")"
      ]
    },
    {
      "cell_type": "markdown",
      "metadata": {
        "id": "v_55MRiycK3a"
      },
      "source": [
        "**CNN Predictions**"
      ]
    },
    {
      "cell_type": "code",
      "execution_count": 26,
      "metadata": {
        "id": "WPUMun3Yg4ip",
        "colab": {
          "base_uri": "https://localhost:8080/",
          "height": 459
        },
        "outputId": "db84c4e7-615e-4aae-cb09-d9f583bfd0f5"
      },
      "outputs": [
        {
          "output_type": "display_data",
          "data": {
            "text/plain": [
              "<Figure size 2500x1000 with 10 Axes>"
            ],
            "image/png": "[encoded data removed]"
          },
          "metadata": {}
        },
        {
          "output_type": "display_data",
          "data": {
            "text/plain": [
              "<Figure size 640x480 with 0 Axes>"
            ]
          },
          "metadata": {}
        }
      ],
      "source": [
        "# Display 10 random pictures from the dataset with their labels\n",
        "\n",
        "Random_batch = np.random.randint(0, len(test_generator) - 1)\n",
        "\n",
        "Random_Img_Index = np.random.randint(0, batch_size - 1 , 10)\n",
        "\n",
        "fig, axes = plt.subplots(nrows=2, ncols=5, figsize=(25, 10),\n",
        "                        subplot_kw={'xticks': [], 'yticks': []})\n",
        "\n",
        "for i, ax in enumerate(axes.flat):\n",
        "\n",
        "    Random_Img = test_generator[Random_batch][0][Random_Img_Index[i]]\n",
        "\n",
        "    Random_Img_Label = np.argmax(test_generator[Random_batch][1][Random_Img_Index[i]])\n",
        "\n",
        "    Model_Prediction = np.argmax(CNN_Model.predict( tf.expand_dims(Random_Img, axis=0) , verbose=0))\n",
        "\n",
        "    ax.imshow(Random_Img)\n",
        "\n",
        "    if Emotion_Classes[Random_Img_Label] == Emotion_Classes[Model_Prediction]:\n",
        "          color = \"green\"\n",
        "    else:\n",
        "          color = \"red\"\n",
        "    ax.set_title(f\"True: {Emotion_Classes[Random_Img_Label]}\\nPredicted: {Emotion_Classes[Model_Prediction]}\", color=color)\n",
        "plt.show()\n",
        "plt.tight_layout()"
      ]
    },
    {
      "cell_type": "markdown",
      "metadata": {
        "id": "Lzx3wYuScK3b"
      },
      "source": [
        "# **Predicting New Images**"
      ]
    },
    {
      "cell_type": "markdown",
      "metadata": {
        "id": "vKPKFGZGPAgK"
      },
      "source": [
        "**Downloading OpenCV haarcascade frontalface Detection**"
      ]
    },
    {
      "cell_type": "code",
      "execution_count": 27,
      "metadata": {
        "id": "HELIc8QYcK3b",
        "colab": {
          "base_uri": "https://localhost:8080/"
        },
        "outputId": "0e28b84a-329d-46e1-830c-c72bfd35c693"
      },
      "outputs": [
        {
          "output_type": "stream",
          "name": "stdout",
          "text": [
            "--2024-06-13 21:27:14--  https://raw.githubusercontent.com/opencv/opencv/master/data/haarcascades/haarcascade_frontalface_default.xml\n",
            "Resolving raw.githubusercontent.com (raw.githubusercontent.com)... 185.199.108.133, 185.199.109.133, 185.199.110.133, ...\n",
            "Connecting to raw.githubusercontent.com (raw.githubusercontent.com)|185.199.108.133|:443... connected.\n",
            "HTTP request sent, awaiting response... 200 OK\n",
            "Length: 930127 (908K) [text/plain]\n",
            "Saving to: ‘haarcascade_frontalface_default.xml’\n",
            "\n",
            "haarcascade_frontal 100%[===================>] 908.33K  --.-KB/s    in 0.007s  \n",
            "\n",
            "2024-06-13 21:27:14 (129 MB/s) - ‘haarcascade_frontalface_default.xml’ saved [930127/930127]\n",
            "\n"
          ]
        }
      ],
      "source": [
        "!wget https://raw.githubusercontent.com/opencv/opencv/master/data/haarcascades/haarcascade_frontalface_default.xml\n",
        "\n",
        "faceCascade = cv2.CascadeClassifier(\"haarcascade_frontalface_default.xml\")"
      ]
    },
    {
      "cell_type": "code",
      "execution_count": 28,
      "metadata": {
        "id": "tc6rfKoZcK3b"
      },
      "outputs": [],
      "source": [
        "def load_and_prep_image(filename, img_shape = 224):\n",
        "\n",
        "    img = cv2.imread(filename)\n",
        "\n",
        "    GrayImg = cv2.cvtColor(img,cv2.COLOR_BGR2GRAY)\n",
        "\n",
        "    faces = faceCascade.detectMultiScale(GrayImg, 1.1, 4)\n",
        "\n",
        "    for x,y,w,h in faces:\n",
        "\n",
        "        roi_GrayImg = GrayImg[ y: y + h , x: x + w ]\n",
        "        roi_Img = img[ y: y + h , x: x + w ]\n",
        "\n",
        "        cv2.rectangle(img, (x,y), (x+w, y+h), (0, 255, 0), 2)\n",
        "\n",
        "        plt.imshow(cv2.cvtColor(img,cv2.COLOR_BGR2RGB))\n",
        "\n",
        "        faces = faceCascade.detectMultiScale(roi_Img, 1.1, 4)\n",
        "\n",
        "        if len(faces) == 0:\n",
        "            print(\"No Faces Detected\")\n",
        "        else:\n",
        "            for (ex, ey, ew, eh) in faces:\n",
        "                img = roi_Img[ ey: ey+eh , ex: ex+ew ]\n",
        "\n",
        "    RGBImg = cv2.cvtColor(img,cv2.COLOR_BGR2RGB)\n",
        "\n",
        "    RGBImg= cv2.resize(RGBImg,(img_shape,img_shape))\n",
        "\n",
        "    RGBImg = RGBImg/255.\n",
        "\n",
        "    return RGBImg"
      ]
    },
    {
      "cell_type": "code",
      "execution_count": 29,
      "metadata": {
        "id": "sVYUG7rKcK3c"
      },
      "outputs": [],
      "source": [
        "def pred_and_plot(filename, class_names):\n",
        "\n",
        "    # Import the target image and preprocess it\n",
        "    img = load_and_prep_image(filename)\n",
        "\n",
        "    # Make a prediction\n",
        "    pred = ResNet50V2_Model.predict(np.expand_dims(img, axis=0))\n",
        "\n",
        "    # Get the predicted class\n",
        "    pred_class = class_names[pred.argmax()]\n",
        "\n",
        "    # Plot the image and predicted class\n",
        "    #plt.imshow(img)\n",
        "    plt.title(f\"Prediction: {pred_class}\")\n",
        "    plt.axis(False);\n",
        "\n",
        "    Recommend_Songs(pred_class)"
      ]
    },
    {
      "cell_type": "code",
      "execution_count": 37,
      "metadata": {
        "id": "3do329gHcK3c",
        "colab": {
          "base_uri": "https://localhost:8080/",
          "height": 683
        },
        "outputId": "c38040c4-4e42-48b6-a179-d18b82e2dfbb"
      },
      "outputs": [
        {
          "output_type": "error",
          "ename": "NameError",
          "evalue": "name 'ResNet50V2_Model' is not defined",
          "traceback": [
            "\u001b[0;31m---------------------------------------------------------------------------\u001b[0m",
            "\u001b[0;31mNameError\u001b[0m                                 Traceback (most recent call last)",
            "\u001b[0;32m<ipython-input-37-3a95decad56d>\u001b[0m in \u001b[0;36m<cell line: 1>\u001b[0;34m()\u001b[0m\n\u001b[0;32m----> 1\u001b[0;31m \u001b[0mpred_and_plot\u001b[0m\u001b[0;34m(\u001b[0m\u001b[0;34m\"/content/FER13_cleaner/test/sad/PrivateTest_13472479.jpg\"\u001b[0m\u001b[0;34m,\u001b[0m \u001b[0mEmotion_Classes\u001b[0m\u001b[0;34m)\u001b[0m \u001b[0;31m# with CNN\u001b[0m\u001b[0;34m\u001b[0m\u001b[0;34m\u001b[0m\u001b[0m\n\u001b[0m",
            "\u001b[0;32m<ipython-input-29-153d0fe1aeee>\u001b[0m in \u001b[0;36mpred_and_plot\u001b[0;34m(filename, class_names)\u001b[0m\n\u001b[1;32m      5\u001b[0m \u001b[0;34m\u001b[0m\u001b[0m\n\u001b[1;32m      6\u001b[0m     \u001b[0;31m# Make a prediction\u001b[0m\u001b[0;34m\u001b[0m\u001b[0;34m\u001b[0m\u001b[0m\n\u001b[0;32m----> 7\u001b[0;31m     \u001b[0mpred\u001b[0m \u001b[0;34m=\u001b[0m \u001b[0mResNet50V2_Model\u001b[0m\u001b[0;34m.\u001b[0m\u001b[0mpredict\u001b[0m\u001b[0;34m(\u001b[0m\u001b[0mnp\u001b[0m\u001b[0;34m.\u001b[0m\u001b[0mexpand_dims\u001b[0m\u001b[0;34m(\u001b[0m\u001b[0mimg\u001b[0m\u001b[0;34m,\u001b[0m \u001b[0maxis\u001b[0m\u001b[0;34m=\u001b[0m\u001b[0;36m0\u001b[0m\u001b[0;34m)\u001b[0m\u001b[0;34m)\u001b[0m\u001b[0;34m\u001b[0m\u001b[0;34m\u001b[0m\u001b[0m\n\u001b[0m\u001b[1;32m      8\u001b[0m \u001b[0;34m\u001b[0m\u001b[0m\n\u001b[1;32m      9\u001b[0m     \u001b[0;31m# Get the predicted class\u001b[0m\u001b[0;34m\u001b[0m\u001b[0;34m\u001b[0m\u001b[0m\n",
            "\u001b[0;31mNameError\u001b[0m: name 'ResNet50V2_Model' is not defined"
          ]
        },
        {
          "output_type": "display_data",
          "data": {
            "text/plain": [
              "<Figure size 640x480 with 1 Axes>"
            ],
            "image/png": "[encoded data removed]"
          },
          "metadata": {}
        }
      ],
      "source": [
        "pred_and_plot(\"/content/FER13_cleaner/test/sad/PrivateTest_13472479.jpg\", Emotion_Classes) # with CNN"
      ]
    },
    {
      "cell_type": "code",
      "execution_count": 31,
      "metadata": {
        "id": "sQsZN5zVg7if",
        "colab": {
          "base_uri": "https://localhost:8080/"
        },
        "outputId": "397d7297-ce89-4138-aa9a-36df8db15e0a"
      },
      "outputs": [
        {
          "output_type": "stream",
          "name": "stdout",
          "text": [
            "--2024-06-13 21:27:27--  https://pbs.twimg.com/media/EEY3RFFWwAAc-qm.jpg\n",
            "Resolving pbs.twimg.com (pbs.twimg.com)... 192.229.237.101, 2606:2800:248:1707:10d3:19d0:1ba2:1a23\n",
            "Connecting to pbs.twimg.com (pbs.twimg.com)|192.229.237.101|:443... connected.\n",
            "HTTP request sent, awaiting response... 200 OK\n",
            "Length: 36922 (36K) [image/jpeg]\n",
            "Saving to: ‘sad.jpg’\n",
            "\n",
            "sad.jpg             100%[===================>]  36.06K  --.-KB/s    in 0.001s  \n",
            "\n",
            "2024-06-13 21:27:27 (45.9 MB/s) - ‘sad.jpg’ saved [36922/36922]\n",
            "\n"
          ]
        }
      ],
      "source": [
        "# Downloading Image to Test On\n",
        "!wget -c \"https://pbs.twimg.com/media/EEY3RFFWwAAc-qm.jpg\" -O sad.jpg"
      ]
    },
    {
      "cell_type": "code",
      "execution_count": 38,
      "metadata": {
        "id": "Iq4tuqLccK3c",
        "colab": {
          "base_uri": "https://localhost:8080/",
          "height": 311
        },
        "outputId": "24afa9ff-57a9-4843-cedf-3b2cc4bc40ca"
      },
      "outputs": [
        {
          "output_type": "error",
          "ename": "error",
          "evalue": "OpenCV(4.8.0) /io/opencv/modules/imgproc/src/color.cpp:182: error: (-215:Assertion failed) !_src.empty() in function 'cvtColor'\n",
          "traceback": [
            "\u001b[0;31m---------------------------------------------------------------------------\u001b[0m",
            "\u001b[0;31merror\u001b[0m                                     Traceback (most recent call last)",
            "\u001b[0;32m<ipython-input-38-9326ff8af3b4>\u001b[0m in \u001b[0;36m<cell line: 1>\u001b[0;34m()\u001b[0m\n\u001b[0;32m----> 1\u001b[0;31m \u001b[0mpred_and_plot\u001b[0m\u001b[0;34m(\u001b[0m\u001b[0;34m\"/content/happy.jpg\"\u001b[0m\u001b[0;34m,\u001b[0m \u001b[0mEmotion_Classes\u001b[0m\u001b[0;34m)\u001b[0m \u001b[0;31m# with CNN\u001b[0m\u001b[0;34m\u001b[0m\u001b[0;34m\u001b[0m\u001b[0m\n\u001b[0m",
            "\u001b[0;32m<ipython-input-29-153d0fe1aeee>\u001b[0m in \u001b[0;36mpred_and_plot\u001b[0;34m(filename, class_names)\u001b[0m\n\u001b[1;32m      2\u001b[0m \u001b[0;34m\u001b[0m\u001b[0m\n\u001b[1;32m      3\u001b[0m     \u001b[0;31m# Import the target image and preprocess it\u001b[0m\u001b[0;34m\u001b[0m\u001b[0;34m\u001b[0m\u001b[0m\n\u001b[0;32m----> 4\u001b[0;31m     \u001b[0mimg\u001b[0m \u001b[0;34m=\u001b[0m \u001b[0mload_and_prep_image\u001b[0m\u001b[0;34m(\u001b[0m\u001b[0mfilename\u001b[0m\u001b[0;34m)\u001b[0m\u001b[0;34m\u001b[0m\u001b[0;34m\u001b[0m\u001b[0m\n\u001b[0m\u001b[1;32m      5\u001b[0m \u001b[0;34m\u001b[0m\u001b[0m\n\u001b[1;32m      6\u001b[0m     \u001b[0;31m# Make a prediction\u001b[0m\u001b[0;34m\u001b[0m\u001b[0;34m\u001b[0m\u001b[0m\n",
            "\u001b[0;32m<ipython-input-28-5c5128bf581d>\u001b[0m in \u001b[0;36mload_and_prep_image\u001b[0;34m(filename, img_shape)\u001b[0m\n\u001b[1;32m      3\u001b[0m     \u001b[0mimg\u001b[0m \u001b[0;34m=\u001b[0m \u001b[0mcv2\u001b[0m\u001b[0;34m.\u001b[0m\u001b[0mimread\u001b[0m\u001b[0;34m(\u001b[0m\u001b[0mfilename\u001b[0m\u001b[0;34m)\u001b[0m\u001b[0;34m\u001b[0m\u001b[0;34m\u001b[0m\u001b[0m\n\u001b[1;32m      4\u001b[0m \u001b[0;34m\u001b[0m\u001b[0m\n\u001b[0;32m----> 5\u001b[0;31m     \u001b[0mGrayImg\u001b[0m \u001b[0;34m=\u001b[0m \u001b[0mcv2\u001b[0m\u001b[0;34m.\u001b[0m\u001b[0mcvtColor\u001b[0m\u001b[0;34m(\u001b[0m\u001b[0mimg\u001b[0m\u001b[0;34m,\u001b[0m\u001b[0mcv2\u001b[0m\u001b[0;34m.\u001b[0m\u001b[0mCOLOR_BGR2GRAY\u001b[0m\u001b[0;34m)\u001b[0m\u001b[0;34m\u001b[0m\u001b[0;34m\u001b[0m\u001b[0m\n\u001b[0m\u001b[1;32m      6\u001b[0m \u001b[0;34m\u001b[0m\u001b[0m\n\u001b[1;32m      7\u001b[0m     \u001b[0mfaces\u001b[0m \u001b[0;34m=\u001b[0m \u001b[0mfaceCascade\u001b[0m\u001b[0;34m.\u001b[0m\u001b[0mdetectMultiScale\u001b[0m\u001b[0;34m(\u001b[0m\u001b[0mGrayImg\u001b[0m\u001b[0;34m,\u001b[0m \u001b[0;36m1.1\u001b[0m\u001b[0;34m,\u001b[0m \u001b[0;36m4\u001b[0m\u001b[0;34m)\u001b[0m\u001b[0;34m\u001b[0m\u001b[0;34m\u001b[0m\u001b[0m\n",
            "\u001b[0;31merror\u001b[0m: OpenCV(4.8.0) /io/opencv/modules/imgproc/src/color.cpp:182: error: (-215:Assertion failed) !_src.empty() in function 'cvtColor'\n"
          ]
        }
      ],
      "source": [
        "pred_and_plot(\"/content/happy.jpg\", Emotion_Classes) # with CNN"
      ]
    },
    {
      "cell_type": "code",
      "execution_count": 33,
      "metadata": {
        "id": "ebnQADoXg7ih",
        "colab": {
          "base_uri": "https://localhost:8080/"
        },
        "outputId": "c8d96612-907c-408d-a3a4-b047b4e8f82d"
      },
      "outputs": [
        {
          "output_type": "stream",
          "name": "stdout",
          "text": [
            "--2024-06-13 21:27:33--  https://pbs.twimg.com/profile_images/758370732413947904/xYB5Q3FY_400x400.jpg\n",
            "Resolving pbs.twimg.com (pbs.twimg.com)... 192.229.237.101, 2606:2800:248:1707:10d3:19d0:1ba2:1a23\n",
            "Connecting to pbs.twimg.com (pbs.twimg.com)|192.229.237.101|:443... connected.\n",
            "HTTP request sent, awaiting response... 404 Not Found\n",
            "2024-06-13 21:27:34 ERROR 404: Not Found.\n",
            "\n"
          ]
        }
      ],
      "source": [
        "# Downloading Image to Test On\n",
        "!wget -c \"https://pbs.twimg.com/profile_images/758370732413947904/xYB5Q3FY_400x400.jpg\" -O happy.jpg"
      ]
    },
    {
      "cell_type": "code",
      "execution_count": 34,
      "metadata": {
        "id": "L5YUzcKgg7ih",
        "colab": {
          "base_uri": "https://localhost:8080/"
        },
        "outputId": "cb763f77-7229-42db-a903-2af1ad34268a"
      },
      "outputs": [
        {
          "output_type": "stream",
          "name": "stderr",
          "text": [
            "/usr/local/lib/python3.10/dist-packages/keras/src/engine/training.py:3103: UserWarning: You are saving your model as an HDF5 file via `model.save()`. This file format is considered legacy. We recommend using instead the native Keras format, e.g. `model.save('my_model.keras')`.\n",
            "  saving_api.save_model(\n"
          ]
        }
      ],
      "source": [
        "CNN_Model.save(\"CNN_Model.h5\")"
      ]
    },
    {
      "cell_type": "code",
      "source": [
        "CNN_Model.save(\"model.h5\")"
      ],
      "metadata": {
        "colab": {
          "base_uri": "https://localhost:8080/"
        },
        "id": "fVfsjmMCtDE8",
        "outputId": "07f3b243-e3ae-4bdf-f80e-d9f810b11cdf"
      },
      "execution_count": 54,
      "outputs": [
        {
          "output_type": "stream",
          "name": "stderr",
          "text": [
            "/usr/local/lib/python3.10/dist-packages/keras/src/engine/training.py:3103: UserWarning: You are saving your model as an HDF5 file via `model.save()`. This file format is considered legacy. We recommend using instead the native Keras format, e.g. `model.save('my_model.keras')`.\n",
            "  saving_api.save_model(\n"
          ]
        }
      ]
    },
    {
      "cell_type": "code",
      "source": [
        "import tensorflow as tf\n",
        "\n",
        "# Langkah 1: Memuat model dari file .h5\n",
        "model = tf.keras.models.load_model('model_optimal.h5')\n",
        "\n",
        "# Langkah 2: Mengonversi model ke format TensorFlow Lite\n",
        "converter = tf.lite.TFLiteConverter.from_keras_model(model)\n",
        "tflite_model = converter.convert()\n",
        "\n",
        "# Langkah 3: Menyimpan model yang telah dikonversi ke file .tflite\n",
        "with open('model.tflite', 'wb') as f:\n",
        "    f.write(tflite_model)\n"
      ],
      "metadata": {
        "id": "yMixpLb2i9kO"
      },
      "execution_count": 39,
      "outputs": []
    },
    {
      "cell_type": "code",
      "source": [
        "import tensorflow as tf\n",
        "\n",
        "# Load the model\n",
        "model = tf.keras.models.load_model('CNN_Model.h5')\n",
        "\n",
        "# Check the model summary\n",
        "model.summary()"
      ],
      "metadata": {
        "colab": {
          "base_uri": "https://localhost:8080/"
        },
        "id": "heNhy8_nq-cX",
        "outputId": "e2b7e125-ebba-4447-b52d-950470917008"
      },
      "execution_count": 45,
      "outputs": [
        {
          "output_type": "stream",
          "name": "stdout",
          "text": [
            "Model: \"sequential\"\n",
            "_________________________________________________________________\n",
            " Layer (type)                Output Shape              Param #   \n",
            "=================================================================\n",
            " conv2d (Conv2D)             (None, 46, 46, 32)        896       \n",
            "                                                                 \n",
            " batch_normalization (Batch  (None, 46, 46, 32)        128       \n",
            " Normalization)                                                  \n",
            "                                                                 \n",
            " conv2d_1 (Conv2D)           (None, 46, 46, 64)        18496     \n",
            "                                                                 \n",
            " batch_normalization_1 (Bat  (None, 46, 46, 64)        256       \n",
            " chNormalization)                                                \n",
            "                                                                 \n",
            " max_pooling2d (MaxPooling2  (None, 23, 23, 64)        0         \n",
            " D)                                                              \n",
            "                                                                 \n",
            " dropout (Dropout)           (None, 23, 23, 64)        0         \n",
            "                                                                 \n",
            " conv2d_2 (Conv2D)           (None, 21, 21, 64)        36928     \n",
            "                                                                 \n",
            " batch_normalization_2 (Bat  (None, 21, 21, 64)        256       \n",
            " chNormalization)                                                \n",
            "                                                                 \n",
            " conv2d_3 (Conv2D)           (None, 21, 21, 128)       73856     \n",
            "                                                                 \n",
            " batch_normalization_3 (Bat  (None, 21, 21, 128)       512       \n",
            " chNormalization)                                                \n",
            "                                                                 \n",
            " max_pooling2d_1 (MaxPoolin  (None, 11, 11, 128)       0         \n",
            " g2D)                                                            \n",
            "                                                                 \n",
            " dropout_1 (Dropout)         (None, 11, 11, 128)       0         \n",
            "                                                                 \n",
            " conv2d_4 (Conv2D)           (None, 9, 9, 128)         147584    \n",
            "                                                                 \n",
            " batch_normalization_4 (Bat  (None, 9, 9, 128)         512       \n",
            " chNormalization)                                                \n",
            "                                                                 \n",
            " conv2d_5 (Conv2D)           (None, 9, 9, 256)         295168    \n",
            "                                                                 \n",
            " batch_normalization_5 (Bat  (None, 9, 9, 256)         1024      \n",
            " chNormalization)                                                \n",
            "                                                                 \n",
            " max_pooling2d_2 (MaxPoolin  (None, 5, 5, 256)         0         \n",
            " g2D)                                                            \n",
            "                                                                 \n",
            " dropout_2 (Dropout)         (None, 5, 5, 256)         0         \n",
            "                                                                 \n",
            " flatten (Flatten)           (None, 6400)              0         \n",
            "                                                                 \n",
            " dense (Dense)               (None, 1024)              6554624   \n",
            "                                                                 \n",
            " batch_normalization_6 (Bat  (None, 1024)              4096      \n",
            " chNormalization)                                                \n",
            "                                                                 \n",
            " dropout_3 (Dropout)         (None, 1024)              0         \n",
            "                                                                 \n",
            " dense_1 (Dense)             (None, 512)               524800    \n",
            "                                                                 \n",
            " batch_normalization_7 (Bat  (None, 512)               2048      \n",
            " chNormalization)                                                \n",
            "                                                                 \n",
            " dropout_4 (Dropout)         (None, 512)               0         \n",
            "                                                                 \n",
            " dense_2 (Dense)             (None, 256)               131328    \n",
            "                                                                 \n",
            " batch_normalization_8 (Bat  (None, 256)               1024      \n",
            " chNormalization)                                                \n",
            "                                                                 \n",
            " dropout_5 (Dropout)         (None, 256)               0         \n",
            "                                                                 \n",
            " dense_3 (Dense)             (None, 128)               32896     \n",
            "                                                                 \n",
            " batch_normalization_9 (Bat  (None, 128)               512       \n",
            " chNormalization)                                                \n",
            "                                                                 \n",
            " dropout_6 (Dropout)         (None, 128)               0         \n",
            "                                                                 \n",
            " dense_4 (Dense)             (None, 64)                8256      \n",
            "                                                                 \n",
            " batch_normalization_10 (Ba  (None, 64)                256       \n",
            " tchNormalization)                                               \n",
            "                                                                 \n",
            " dropout_7 (Dropout)         (None, 64)                0         \n",
            "                                                                 \n",
            " dense_5 (Dense)             (None, 32)                2080      \n",
            "                                                                 \n",
            " batch_normalization_11 (Ba  (None, 32)                128       \n",
            " tchNormalization)                                               \n",
            "                                                                 \n",
            " dropout_8 (Dropout)         (None, 32)                0         \n",
            "                                                                 \n",
            " dense_6 (Dense)             (None, 4)                 132       \n",
            "                                                                 \n",
            "=================================================================\n",
            "Total params: 7837796 (29.90 MB)\n",
            "Trainable params: 7832420 (29.88 MB)\n",
            "Non-trainable params: 5376 (21.00 KB)\n",
            "_________________________________________________________________\n"
          ]
        }
      ]
    },
    {
      "cell_type": "code",
      "source": [
        "import numpy as np\n",
        "from google.colab import files\n",
        "from keras.preprocessing import image\n",
        "import matplotlib.pyplot as plt\n",
        "import matplotlib.image as mpimg\n",
        "\n",
        "uploaded = files.upload()\n",
        "\n",
        "class_labels = {'angry': 0, 'happy': 1, 'neutral': 2, 'sad': 3}\n",
        "\n",
        "# Set up the subplots\n",
        "fig, ax = plt.subplots(nrows=len(uploaded), ncols=2, figsize=(10, len(uploaded)*5))\n",
        "\n",
        "for i, fn in enumerate(uploaded.keys()):\n",
        "  # predict images\n",
        "  path = fn\n",
        "  img_source = image.load_img(path, target_size = (48, 48))\n",
        "  x = image.img_to_array(img_source)\n",
        "  x = np.expand_dims(x, axis = 0)\n",
        "\n",
        "  images = np.vstack([x])\n",
        "  classes = model.predict(images, batch_size = 10)\n",
        "\n",
        "  print(fn)\n",
        "\n",
        "  # Use argmax to find the index of the predicted class\n",
        "  predicted_class_index = np.argmax(classes[0])\n",
        "\n",
        "  # Use the class_labels dictionary to get the corresponding label\n",
        "  predicted_class = class_labels[predicted_class_index]\n",
        "\n",
        "  print(predicted_class)\n",
        "\n",
        "  # Display the image on the left side\n",
        "  ax[i, 0].imshow(img_source)\n",
        "  ax[i, 0].axis('off')  # Turn off axis labels\n",
        "\n",
        "  # Bar plot of class probabilities on the right side\n",
        "  class_probabilities = classes[0]\n",
        "  ax[i, 1].barh(list(class_labels.values()), class_probabilities)\n",
        "  ax[i, 1].set_xlim([0, 1])  # Set y-axis limit to match probability range\n",
        "  ax[i, 1].set_xlabel('Probability')\n",
        "  ax[i, 1].set_title('Class Probabilities')\n",
        "\n",
        "  # Print the predicted class label\n",
        "  ax[i, 1].text(1.1, 0.5, f'Predicted: {predicted_class}', transform=ax[i, 1].transAxes, fontsize=12,\n",
        "                verticalalignment='center')"
      ],
      "metadata": {
        "colab": {
          "base_uri": "https://localhost:8080/",
          "height": 742
        },
        "id": "QZRGhdUjpGPr",
        "outputId": "2adc6dc7-3f07-478b-f044-54a7c1902eba"
      },
      "execution_count": 55,
      "outputs": [
        {
          "output_type": "display_data",
          "data": {
            "text/plain": [
              "<IPython.core.display.HTML object>"
            ],
            "text/html": [
              "\n",
              "     <input type=\"file\" id=\"files-04ca530f-fdb6-4c10-a68d-674da87ed632\" name=\"files[]\" multiple disabled\n",
              "        style=\"border:none\" />\n",
              "     <output id=\"result-04ca530f-fdb6-4c10-a68d-674da87ed632\">\n",
              "      Upload widget is only available when the cell has been executed in the\n",
              "      current browser session. Please rerun this cell to enable.\n",
              "      </output>\n",
              "      <script>// Copyright 2017 Google LLC\n",
              "//\n",
              "// Licensed under the Apache License, Version 2.0 (the \"License\");\n",
              "// you may not use this file except in compliance with the License.\n",
              "// You may obtain a copy of the License at\n",
              "//\n",
              "//      http://www.apache.org/licenses/LICENSE-2.0\n",
              "//\n",
              "// Unless required by applicable law or agreed to in writing, software\n",
              "// distributed under the License is distributed on an \"AS IS\" BASIS,\n",
              "// WITHOUT WARRANTIES OR CONDITIONS OF ANY KIND, either express or implied.\n",
              "// See the License for the specific language governing permissions and\n",
              "// limitations under the License.\n",
              "\n",
              "/**\n",
              " * @fileoverview Helpers for google.colab Python module.\n",
              " */\n",
              "(function(scope) {\n",
              "function span(text, styleAttributes = {}) {\n",
              "  const element = document.createElement('span');\n",
              "  element.textContent = text;\n",
              "  for (const key of Object.keys(styleAttributes)) {\n",
              "    element.style[key] = styleAttributes[key];\n",
              "  }\n",
              "  return element;\n",
              "}\n",
              "\n",
              "// Max number of bytes which will be uploaded at a time.\n",
              "const MAX_PAYLOAD_SIZE = 100 * 1024;\n",
              "\n",
              "function _uploadFiles(inputId, outputId) {\n",
              "  const steps = uploadFilesStep(inputId, outputId);\n",
              "  const outputElement = document.getElementById(outputId);\n",
              "  // Cache steps on the outputElement to make it available for the next call\n",
              "  // to uploadFilesContinue from Python.\n",
              "  outputElement.steps = steps;\n",
              "\n",
              "  return _uploadFilesContinue(outputId);\n",
              "}\n",
              "\n",
              "// This is roughly an async generator (not supported in the browser yet),\n",
              "// where there are multiple asynchronous steps and the Python side is going\n",
              "// to poll for completion of each step.\n",
              "// This uses a Promise to block the python side on completion of each step,\n",
              "// then passes the result of the previous step as the input to the next step.\n",
              "function _uploadFilesContinue(outputId) {\n",
              "  const outputElement = document.getElementById(outputId);\n",
              "  const steps = outputElement.steps;\n",
              "\n",
              "  const next = steps.next(outputElement.lastPromiseValue);\n",
              "  return Promise.resolve(next.value.promise).then((value) => {\n",
              "    // Cache the last promise value to make it available to the next\n",
              "    // step of the generator.\n",
              "    outputElement.lastPromiseValue = value;\n",
              "    return next.value.response;\n",
              "  });\n",
              "}\n",
              "\n",
              "/**\n",
              " * Generator function which is called between each async step of the upload\n",
              " * process.\n",
              " * @param {string} inputId Element ID of the input file picker element.\n",
              " * @param {string} outputId Element ID of the output display.\n",
              " * @return {!Iterable<!Object>} Iterable of next steps.\n",
              " */\n",
              "function* uploadFilesStep(inputId, outputId) {\n",
              "  const inputElement = document.getElementById(inputId);\n",
              "  inputElement.disabled = false;\n",
              "\n",
              "  const outputElement = document.getElementById(outputId);\n",
              "  outputElement.innerHTML = '';\n",
              "\n",
              "  const pickedPromise = new Promise((resolve) => {\n",
              "    inputElement.addEventListener('change', (e) => {\n",
              "      resolve(e.target.files);\n",
              "    });\n",
              "  });\n",
              "\n",
              "  const cancel = document.createElement('button');\n",
              "  inputElement.parentElement.appendChild(cancel);\n",
              "  cancel.textContent = 'Cancel upload';\n",
              "  const cancelPromise = new Promise((resolve) => {\n",
              "    cancel.onclick = () => {\n",
              "      resolve(null);\n",
              "    };\n",
              "  });\n",
              "\n",
              "  // Wait for the user to pick the files.\n",
              "  const files = yield {\n",
              "    promise: Promise.race([pickedPromise, cancelPromise]),\n",
              "    response: {\n",
              "      action: 'starting',\n",
              "    }\n",
              "  };\n",
              "\n",
              "  cancel.remove();\n",
              "\n",
              "  // Disable the input element since further picks are not allowed.\n",
              "  inputElement.disabled = true;\n",
              "\n",
              "  if (!files) {\n",
              "    return {\n",
              "      response: {\n",
              "        action: 'complete',\n",
              "      }\n",
              "    };\n",
              "  }\n",
              "\n",
              "  for (const file of files) {\n",
              "    const li = document.createElement('li');\n",
              "    li.append(span(file.name, {fontWeight: 'bold'}));\n",
              "    li.append(span(\n",
              "        `(${file.type || 'n/a'}) - ${file.size} bytes, ` +\n",
              "        `last modified: ${\n",
              "            file.lastModifiedDate ? file.lastModifiedDate.toLocaleDateString() :\n",
              "                                    'n/a'} - `));\n",
              "    const percent = span('0% done');\n",
              "    li.appendChild(percent);\n",
              "\n",
              "    outputElement.appendChild(li);\n",
              "\n",
              "    const fileDataPromise = new Promise((resolve) => {\n",
              "      const reader = new FileReader();\n",
              "      reader.onload = (e) => {\n",
              "        resolve(e.target.result);\n",
              "      };\n",
              "      reader.readAsArrayBuffer(file);\n",
              "    });\n",
              "    // Wait for the data to be ready.\n",
              "    let fileData = yield {\n",
              "      promise: fileDataPromise,\n",
              "      response: {\n",
              "        action: 'continue',\n",
              "      }\n",
              "    };\n",
              "\n",
              "    // Use a chunked sending to avoid message size limits. See b/62115660.\n",
              "    let position = 0;\n",
              "    do {\n",
              "      const length = Math.min(fileData.byteLength - position, MAX_PAYLOAD_SIZE);\n",
              "      const chunk = new Uint8Array(fileData, position, length);\n",
              "      position += length;\n",
              "\n",
              "      const base64 = btoa(String.fromCharCode.apply(null, chunk));\n",
              "      yield {\n",
              "        response: {\n",
              "          action: 'append',\n",
              "          file: file.name,\n",
              "          data: base64,\n",
              "        },\n",
              "      };\n",
              "\n",
              "      let percentDone = fileData.byteLength === 0 ?\n",
              "          100 :\n",
              "          Math.round((position / fileData.byteLength) * 100);\n",
              "      percent.textContent = `${percentDone}% done`;\n",
              "\n",
              "    } while (position < fileData.byteLength);\n",
              "  }\n",
              "\n",
              "  // All done.\n",
              "  yield {\n",
              "    response: {\n",
              "      action: 'complete',\n",
              "    }\n",
              "  };\n",
              "}\n",
              "\n",
              "scope.google = scope.google || {};\n",
              "scope.google.colab = scope.google.colab || {};\n",
              "scope.google.colab._files = {\n",
              "  _uploadFiles,\n",
              "  _uploadFilesContinue,\n",
              "};\n",
              "})(self);\n",
              "</script> "
            ]
          },
          "metadata": {}
        },
        {
          "output_type": "stream",
          "name": "stdout",
          "text": [
            "Saving WhatsApp Image 2024-06-14 at 05.08.38.jpeg to WhatsApp Image 2024-06-14 at 05.08.38 (9).jpeg\n",
            "1/1 [==============================] - 0s 275ms/step\n",
            "WhatsApp Image 2024-06-14 at 05.08.38 (9).jpeg\n"
          ]
        },
        {
          "output_type": "error",
          "ename": "KeyError",
          "evalue": "2",
          "traceback": [
            "\u001b[0;31m---------------------------------------------------------------------------\u001b[0m",
            "\u001b[0;31mKeyError\u001b[0m                                  Traceback (most recent call last)",
            "\u001b[0;32m<ipython-input-55-13c3ba40be54>\u001b[0m in \u001b[0;36m<cell line: 14>\u001b[0;34m()\u001b[0m\n\u001b[1;32m     28\u001b[0m \u001b[0;34m\u001b[0m\u001b[0m\n\u001b[1;32m     29\u001b[0m   \u001b[0;31m# Use the class_labels dictionary to get the corresponding label\u001b[0m\u001b[0;34m\u001b[0m\u001b[0;34m\u001b[0m\u001b[0m\n\u001b[0;32m---> 30\u001b[0;31m   \u001b[0mpredicted_class\u001b[0m \u001b[0;34m=\u001b[0m \u001b[0mclass_labels\u001b[0m\u001b[0;34m[\u001b[0m\u001b[0mpredicted_class_index\u001b[0m\u001b[0;34m]\u001b[0m\u001b[0;34m\u001b[0m\u001b[0;34m\u001b[0m\u001b[0m\n\u001b[0m\u001b[1;32m     31\u001b[0m \u001b[0;34m\u001b[0m\u001b[0m\n\u001b[1;32m     32\u001b[0m   \u001b[0mprint\u001b[0m\u001b[0;34m(\u001b[0m\u001b[0mpredicted_class\u001b[0m\u001b[0;34m)\u001b[0m\u001b[0;34m\u001b[0m\u001b[0;34m\u001b[0m\u001b[0m\n",
            "\u001b[0;31mKeyError\u001b[0m: 2"
          ]
        },
        {
          "output_type": "display_data",
          "data": {
            "text/plain": [
              "<Figure size 1000x500 with 2 Axes>"
            ],
            "image/png": "[encoded data removed]"
          },
          "metadata": {}
        }
      ]
    }
  ],
  "metadata": {
    "colab": {
      "provenance": [],
      "gpuType": "T4"
    },
    "kaggle": {
      "accelerator": "none",
      "dataSources": [
        {
          "datasetId": 786787,
          "sourceId": 1351797,
          "sourceType": "datasetVersion"
        },
        {
          "datasetId": 1012989,
          "sourceId": 1708668,
          "sourceType": "datasetVersion"
        }
      ],
      "dockerImageVersionId": 30301,
      "isGpuEnabled": false,
      "isInternetEnabled": false,
      "language": "python",
      "sourceType": "notebook"
    },
    "kernelspec": {
      "display_name": "Python 3",
      "name": "python3"
    },
    "language_info": {
      "codemirror_mode": {
        "name": "ipython",
        "version": 3
      },
      "file_extension": ".py",
      "mimetype": "text/x-python",
      "name": "python",
      "nbconvert_exporter": "python",
      "pygments_lexer": "ipython3",
      "version": "3.6.4"
    },
    "accelerator": "GPU"
  },
  "nbformat": 4,
  "nbformat_minor": 0
}